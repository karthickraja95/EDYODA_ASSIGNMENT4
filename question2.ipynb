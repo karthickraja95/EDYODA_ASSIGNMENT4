{
 "cells": [
  {
   "cell_type": "markdown",
   "id": "070a2b2f",
   "metadata": {},
   "source": [
    "# triple the numbers in a list:"
   ]
  },
  {
   "cell_type": "code",
   "execution_count": 1,
   "id": "09b4edf8",
   "metadata": {},
   "outputs": [
    {
     "name": "stdout",
     "output_type": "stream",
     "text": [
      "[3, 6, 9, 12, 15, 18, 21]\n"
     ]
    }
   ],
   "source": [
    "sample_list=[1,2,3,4,5,6,7]\n",
    "\n",
    "def triple(a):\n",
    "    return a*3\n",
    "\n",
    "result=map(triple,sample_list)\n",
    "print(list(result))\n"
   ]
  },
  {
   "cell_type": "code",
   "execution_count": null,
   "id": "2346dc8b",
   "metadata": {},
   "outputs": [],
   "source": []
  }
 ],
 "metadata": {
  "kernelspec": {
   "display_name": "Python 3 (ipykernel)",
   "language": "python",
   "name": "python3"
  },
  "language_info": {
   "codemirror_mode": {
    "name": "ipython",
    "version": 3
   },
   "file_extension": ".py",
   "mimetype": "text/x-python",
   "name": "python",
   "nbconvert_exporter": "python",
   "pygments_lexer": "ipython3",
   "version": "3.10.2"
  }
 },
 "nbformat": 4,
 "nbformat_minor": 5
}
